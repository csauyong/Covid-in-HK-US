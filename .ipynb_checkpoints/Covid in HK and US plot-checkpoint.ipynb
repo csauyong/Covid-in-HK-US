{
 "cells": [
  {
   "cell_type": "markdown",
   "metadata": {},
   "source": [
    "# Import libraries and data sets"
   ]
  },
  {
   "cell_type": "code",
   "execution_count": 1,
   "metadata": {},
   "outputs": [],
   "source": [
    "import pandas as pd\n",
    "import matplotlib.pyplot as plt\n",
    "import numpy as np"
   ]
  },
  {
   "cell_type": "code",
   "execution_count": 68,
   "metadata": {},
   "outputs": [
    {
     "data": {
      "text/html": [
       "<div>\n",
       "<style scoped>\n",
       "    .dataframe tbody tr th:only-of-type {\n",
       "        vertical-align: middle;\n",
       "    }\n",
       "\n",
       "    .dataframe tbody tr th {\n",
       "        vertical-align: top;\n",
       "    }\n",
       "\n",
       "    .dataframe thead th {\n",
       "        text-align: right;\n",
       "    }\n",
       "</style>\n",
       "<table border=\"1\" class=\"dataframe\">\n",
       "  <thead>\n",
       "    <tr style=\"text-align: right;\">\n",
       "      <th></th>\n",
       "      <th>As of date</th>\n",
       "      <th>As of time</th>\n",
       "      <th>Countries/areas</th>\n",
       "      <th>Cumulative number of confirmed cases</th>\n",
       "      <th>Number of newly confirmed cases reported in the past 14 days</th>\n",
       "      <th>Cumulative number of deaths among confirmed cases</th>\n",
       "      <th>Remark</th>\n",
       "    </tr>\n",
       "  </thead>\n",
       "  <tbody>\n",
       "    <tr>\n",
       "      <th>0</th>\n",
       "      <td>2020-03-26</td>\n",
       "      <td>10:00</td>\n",
       "      <td>Afghanistan</td>\n",
       "      <td>74</td>\n",
       "      <td>70.0</td>\n",
       "      <td>1</td>\n",
       "      <td>NaN</td>\n",
       "    </tr>\n",
       "    <tr>\n",
       "      <th>1</th>\n",
       "      <td>2020-03-26</td>\n",
       "      <td>10:00</td>\n",
       "      <td>Albania</td>\n",
       "      <td>146</td>\n",
       "      <td>144.0</td>\n",
       "      <td>5</td>\n",
       "      <td>NaN</td>\n",
       "    </tr>\n",
       "    <tr>\n",
       "      <th>2</th>\n",
       "      <td>2020-03-26</td>\n",
       "      <td>10:00</td>\n",
       "      <td>Algeria</td>\n",
       "      <td>264</td>\n",
       "      <td>247.0</td>\n",
       "      <td>17</td>\n",
       "      <td>NaN</td>\n",
       "    </tr>\n",
       "    <tr>\n",
       "      <th>3</th>\n",
       "      <td>2020-03-26</td>\n",
       "      <td>10:00</td>\n",
       "      <td>Andorra</td>\n",
       "      <td>188</td>\n",
       "      <td>187.0</td>\n",
       "      <td>1</td>\n",
       "      <td>NaN</td>\n",
       "    </tr>\n",
       "    <tr>\n",
       "      <th>4</th>\n",
       "      <td>2020-03-26</td>\n",
       "      <td>10:00</td>\n",
       "      <td>Angola</td>\n",
       "      <td>2</td>\n",
       "      <td>2.0</td>\n",
       "      <td>0</td>\n",
       "      <td>NaN</td>\n",
       "    </tr>\n",
       "  </tbody>\n",
       "</table>\n",
       "</div>"
      ],
      "text/plain": [
       "  As of date As of time Countries/areas  Cumulative number of confirmed cases  \\\n",
       "0 2020-03-26      10:00     Afghanistan                                    74   \n",
       "1 2020-03-26      10:00         Albania                                   146   \n",
       "2 2020-03-26      10:00         Algeria                                   264   \n",
       "3 2020-03-26      10:00         Andorra                                   188   \n",
       "4 2020-03-26      10:00          Angola                                     2   \n",
       "\n",
       "   Number of newly confirmed cases reported in the past 14 days  \\\n",
       "0                                               70.0              \n",
       "1                                              144.0              \n",
       "2                                              247.0              \n",
       "3                                              187.0              \n",
       "4                                                2.0              \n",
       "\n",
       "   Cumulative number of deaths among confirmed cases Remark  \n",
       "0                                                  1    NaN  \n",
       "1                                                  5    NaN  \n",
       "2                                                 17    NaN  \n",
       "3                                                  1    NaN  \n",
       "4                                                  0    NaN  "
      ]
     },
     "execution_count": 68,
     "metadata": {},
     "output_type": "execute_result"
    }
   ],
   "source": [
    "#read csv while interpreting dates\n",
    "covid = pd.read_csv('covid.csv', parse_dates=[0], infer_datetime_format=True)\n",
    "covid.head()"
   ]
  },
  {
   "cell_type": "markdown",
   "metadata": {},
   "source": [
    "# Data cleaning"
   ]
  },
  {
   "cell_type": "code",
   "execution_count": 69,
   "metadata": {},
   "outputs": [],
   "source": [
    "#drop useless columns\n",
    "covid = covid.drop(columns = ['As of time', 'Number of newly confirmed cases reported in the past 14 days', 'Remark'])"
   ]
  },
  {
   "cell_type": "code",
   "execution_count": 70,
   "metadata": {},
   "outputs": [],
   "source": [
    "#filter only rows with HK and US\n",
    "HK = covid.loc[covid['Countries/areas'] == 'Hong Kong Special Administrative Region']\n",
    "US = covid.loc[covid['Countries/areas'] == 'United States of America']"
   ]
  },
  {
   "cell_type": "markdown",
   "metadata": {},
   "source": [
    "The following cells ask for input about region and return queried data"
   ]
  },
  {
   "cell_type": "code",
   "execution_count": 74,
   "metadata": {},
   "outputs": [
    {
     "name": "stdout",
     "output_type": "stream",
     "text": [
      "Honduras\n"
     ]
    }
   ],
   "source": [
    "query = input()\n",
    "region = covid.loc[covid['Countries/areas'] == query]"
   ]
  },
  {
   "cell_type": "code",
   "execution_count": 76,
   "metadata": {},
   "outputs": [
    {
     "data": {
      "text/plain": [
       "244"
      ]
     },
     "execution_count": 76,
     "metadata": {},
     "output_type": "execute_result"
    }
   ],
   "source": [
    "len(region)"
   ]
  },
  {
   "cell_type": "markdown",
   "metadata": {},
   "source": [
    "# Plotting"
   ]
  },
  {
   "cell_type": "code",
   "execution_count": null,
   "metadata": {},
   "outputs": [],
   "source": []
  }
 ],
 "metadata": {
  "kernelspec": {
   "display_name": "Python 3",
   "language": "python",
   "name": "python3"
  },
  "language_info": {
   "codemirror_mode": {
    "name": "ipython",
    "version": 3
   },
   "file_extension": ".py",
   "mimetype": "text/x-python",
   "name": "python",
   "nbconvert_exporter": "python",
   "pygments_lexer": "ipython3",
   "version": "3.6.10"
  }
 },
 "nbformat": 4,
 "nbformat_minor": 2
}
