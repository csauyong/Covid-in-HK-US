{
 "cells": [
  {
   "cell_type": "markdown",
   "metadata": {},
   "source": [
    "# Import libraries and data sets"
   ]
  },
  {
   "cell_type": "code",
   "execution_count": 1,
   "metadata": {},
   "outputs": [],
   "source": [
    "import pandas as pd\n",
    "import matplotlib.pyplot as plt\n",
    "import matplotlib.dates as mdates\n",
    "import numpy as np"
   ]
  },
  {
   "cell_type": "code",
   "execution_count": 2,
   "metadata": {},
   "outputs": [],
   "source": [
    "#read csv while interpreting dates\n",
    "covid = pd.read_csv('covid.csv', parse_dates=[0], infer_datetime_format=True)"
   ]
  },
  {
   "cell_type": "markdown",
   "metadata": {},
   "source": [
    "# Data cleaning"
   ]
  },
  {
   "cell_type": "code",
   "execution_count": 3,
   "metadata": {},
   "outputs": [],
   "source": [
    "#drop useless columns\n",
    "covid = covid.drop(columns = ['As of time', 'Number of newly confirmed cases reported in the past 14 days', 'Remark'])"
   ]
  },
  {
   "cell_type": "code",
   "execution_count": 4,
   "metadata": {},
   "outputs": [
    {
     "data": {
      "text/html": [
       "<div>\n",
       "<style scoped>\n",
       "    .dataframe tbody tr th:only-of-type {\n",
       "        vertical-align: middle;\n",
       "    }\n",
       "\n",
       "    .dataframe tbody tr th {\n",
       "        vertical-align: top;\n",
       "    }\n",
       "\n",
       "    .dataframe thead th {\n",
       "        text-align: right;\n",
       "    }\n",
       "</style>\n",
       "<table border=\"1\" class=\"dataframe\">\n",
       "  <thead>\n",
       "    <tr style=\"text-align: right;\">\n",
       "      <th></th>\n",
       "      <th>As of date</th>\n",
       "      <th>Countries/areas</th>\n",
       "      <th>Cumulative number of confirmed cases</th>\n",
       "      <th>Cumulative number of deaths among confirmed cases</th>\n",
       "    </tr>\n",
       "  </thead>\n",
       "  <tbody>\n",
       "    <tr>\n",
       "      <th>82</th>\n",
       "      <td>2020-03-26</td>\n",
       "      <td>Hong Kong Special Administrative Region</td>\n",
       "      <td>411</td>\n",
       "      <td>4</td>\n",
       "    </tr>\n",
       "    <tr>\n",
       "      <th>282</th>\n",
       "      <td>2020-03-27</td>\n",
       "      <td>Hong Kong Special Administrative Region</td>\n",
       "      <td>454</td>\n",
       "      <td>4</td>\n",
       "    </tr>\n",
       "    <tr>\n",
       "      <th>486</th>\n",
       "      <td>2020-03-28</td>\n",
       "      <td>Hong Kong Special Administrative Region</td>\n",
       "      <td>519</td>\n",
       "      <td>4</td>\n",
       "    </tr>\n",
       "    <tr>\n",
       "      <th>690</th>\n",
       "      <td>2020-03-29</td>\n",
       "      <td>Hong Kong Special Administrative Region</td>\n",
       "      <td>583</td>\n",
       "      <td>4</td>\n",
       "    </tr>\n",
       "    <tr>\n",
       "      <th>894</th>\n",
       "      <td>2020-03-30</td>\n",
       "      <td>Hong Kong Special Administrative Region</td>\n",
       "      <td>642</td>\n",
       "      <td>4</td>\n",
       "    </tr>\n",
       "    <tr>\n",
       "      <th>...</th>\n",
       "      <td>...</td>\n",
       "      <td>...</td>\n",
       "      <td>...</td>\n",
       "      <td>...</td>\n",
       "    </tr>\n",
       "    <tr>\n",
       "      <th>20543</th>\n",
       "      <td>2020-06-29</td>\n",
       "      <td>Hong Kong Special Administrative Region</td>\n",
       "      <td>1200</td>\n",
       "      <td>7</td>\n",
       "    </tr>\n",
       "    <tr>\n",
       "      <th>20761</th>\n",
       "      <td>2020-06-30</td>\n",
       "      <td>Hong Kong Special Administrative Region</td>\n",
       "      <td>1204</td>\n",
       "      <td>7</td>\n",
       "    </tr>\n",
       "    <tr>\n",
       "      <th>20979</th>\n",
       "      <td>2020-07-01</td>\n",
       "      <td>Hong Kong Special Administrative Region</td>\n",
       "      <td>1206</td>\n",
       "      <td>7</td>\n",
       "    </tr>\n",
       "    <tr>\n",
       "      <th>21197</th>\n",
       "      <td>2020-07-02</td>\n",
       "      <td>Hong Kong Special Administrative Region</td>\n",
       "      <td>1234</td>\n",
       "      <td>7</td>\n",
       "    </tr>\n",
       "    <tr>\n",
       "      <th>21415</th>\n",
       "      <td>2020-07-03</td>\n",
       "      <td>Hong Kong Special Administrative Region</td>\n",
       "      <td>1243</td>\n",
       "      <td>7</td>\n",
       "    </tr>\n",
       "  </tbody>\n",
       "</table>\n",
       "<p>100 rows × 4 columns</p>\n",
       "</div>"
      ],
      "text/plain": [
       "      As of date                          Countries/areas  \\\n",
       "82    2020-03-26  Hong Kong Special Administrative Region   \n",
       "282   2020-03-27  Hong Kong Special Administrative Region   \n",
       "486   2020-03-28  Hong Kong Special Administrative Region   \n",
       "690   2020-03-29  Hong Kong Special Administrative Region   \n",
       "894   2020-03-30  Hong Kong Special Administrative Region   \n",
       "...          ...                                      ...   \n",
       "20543 2020-06-29  Hong Kong Special Administrative Region   \n",
       "20761 2020-06-30  Hong Kong Special Administrative Region   \n",
       "20979 2020-07-01  Hong Kong Special Administrative Region   \n",
       "21197 2020-07-02  Hong Kong Special Administrative Region   \n",
       "21415 2020-07-03  Hong Kong Special Administrative Region   \n",
       "\n",
       "       Cumulative number of confirmed cases  \\\n",
       "82                                      411   \n",
       "282                                     454   \n",
       "486                                     519   \n",
       "690                                     583   \n",
       "894                                     642   \n",
       "...                                     ...   \n",
       "20543                                  1200   \n",
       "20761                                  1204   \n",
       "20979                                  1206   \n",
       "21197                                  1234   \n",
       "21415                                  1243   \n",
       "\n",
       "       Cumulative number of deaths among confirmed cases  \n",
       "82                                                     4  \n",
       "282                                                    4  \n",
       "486                                                    4  \n",
       "690                                                    4  \n",
       "894                                                    4  \n",
       "...                                                  ...  \n",
       "20543                                                  7  \n",
       "20761                                                  7  \n",
       "20979                                                  7  \n",
       "21197                                                  7  \n",
       "21415                                                  7  \n",
       "\n",
       "[100 rows x 4 columns]"
      ]
     },
     "execution_count": 4,
     "metadata": {},
     "output_type": "execute_result"
    }
   ],
   "source": [
    "#filter only rows with HK and US\n",
    "HK = covid.loc[covid['Countries/areas'] == 'Hong Kong Special Administrative Region']\n",
    "US = covid.loc[covid['Countries/areas'] == 'United States of America']\n",
    "HK.head(100)"
   ]
  },
  {
   "cell_type": "markdown",
   "metadata": {},
   "source": [
    "Derive daily cases from cumulative cases"
   ]
  },
  {
   "cell_type": "code",
   "execution_count": 6,
   "metadata": {},
   "outputs": [],
   "source": [
    "def derive_daily(df):\n",
    "    #use shifted - cumulative to derive daily cases\n",
    "    #confirmed cases\n",
    "    cumulative = df['Cumulative number of confirmed cases']\n",
    "    shifted = cumulative[1:]\n",
    "    cumulative = cumulative[:-1]\n",
    "    shifted = shifted.reset_index(drop=True)\n",
    "    cumulative = cumulative.reset_index(drop=True)\n",
    "    daily_confirm = shifted - cumulative\n",
    "    #death\n",
    "    cumulative = df['Cumulative number of deaths among confirmed cases']\n",
    "    shifted = cumulative[1:]\n",
    "    cumulative = cumulative[:-1]\n",
    "    shifted = shifted.reset_index(drop=True)\n",
    "    cumulative = cumulative.reset_index(drop=True)\n",
    "    daily_death = shifted - cumulative\n",
    "    #append to df\n",
    "    df = df[1:]\n",
    "    df = df.reset_index(drop=True)\n",
    "    df.loc[:,'Number of confirmed cases'] = daily_confirm\n",
    "    df.loc[:,'Number of deaths among confirmed cases'] = daily_death\n",
    "    return df"
   ]
  },
  {
   "cell_type": "code",
   "execution_count": 7,
   "metadata": {},
   "outputs": [],
   "source": [
    "HK = derive_daily(HK)\n",
    "US = derive_daily(US)"
   ]
  },
  {
   "cell_type": "markdown",
   "metadata": {},
   "source": [
    "# Plotting"
   ]
  },
  {
   "cell_type": "code",
   "execution_count": 8,
   "metadata": {},
   "outputs": [],
   "source": [
    "def plot(df, loc=0):\n",
    "    f = plt.figure()\n",
    "    ax = f.add_subplot(1, 1, 1)\n",
    "    ax.bar(df['As of date'], df['Number of confirmed cases'], label='Confirmed')\n",
    "    ax.bar(df['As of date'], df['Number of deaths among confirmed cases'], label='Death')\n",
    "    ax.set_title(f'{df.name} Daily Covid-19 Tally')\n",
    "    ax.legend(loc=loc)\n",
    "    locator = mdates.AutoDateLocator(minticks=3, maxticks=9)\n",
    "    formatter = mdates.ConciseDateFormatter(locator)\n",
    "    ax.xaxis.set_major_locator(locator)\n",
    "    ax.xaxis.set_major_formatter(formatter)"
   ]
  },
  {
   "cell_type": "code",
   "execution_count": 9,
   "metadata": {
    "scrolled": false
   },
   "outputs": [
    {
     "data": {
      "image/png": "[encoded data removed]",
      "text/plain": [
       "<Figure size 432x288 with 1 Axes>"
      ]
     },
     "metadata": {},
     "output_type": "display_data"
    }
   ],
   "source": [
    "US.name = 'US'\n",
    "plot(US, loc=9)"
   ]
  },
  {
   "cell_type": "code",
   "execution_count": 10,
   "metadata": {},
   "outputs": [
    {
     "data": {
      "image/png": "[encoded data removed]",
      "text/plain": [
       "<Figure size 432x288 with 1 Axes>"
      ]
     },
     "metadata": {},
     "output_type": "display_data"
    }
   ],
   "source": [
    "HK.name = 'HK'\n",
    "plot(HK, loc=1)"
   ]
  },
  {
   "cell_type": "markdown",
   "metadata": {},
   "source": [
    "The following cell ask for input return queried region plot"
   ]
  },
  {
   "cell_type": "code",
   "execution_count": 12,
   "metadata": {},
   "outputs": [
    {
     "name": "stdout",
     "output_type": "stream",
     "text": [
      "Honduras\n"
     ]
    },
    {
     "data": {
      "image/png": "[encoded data removed]",
      "text/plain": [
       "<Figure size 432x288 with 1 Axes>"
      ]
     },
     "metadata": {},
     "output_type": "display_data"
    }
   ],
   "source": [
    "query = input()\n",
    "region = covid.loc[covid['Countries/areas'] == query]\n",
    "region = derive_daily(region)\n",
    "region.name = query\n",
    "plot(region)"
   ]
  },
  {
   "cell_type": "code",
   "execution_count": null,
   "metadata": {},
   "outputs": [],
   "source": []
  }
 ],
 "metadata": {
  "kernelspec": {
   "display_name": "Python 3",
   "language": "python",
   "name": "python3"
  },
  "language_info": {
   "codemirror_mode": {
    "name": "ipython",
    "version": 3
   },
   "file_extension": ".py",
   "mimetype": "text/x-python",
   "name": "python",
   "nbconvert_exporter": "python",
   "pygments_lexer": "ipython3",
   "version": "3.6.10"
  }
 },
 "nbformat": 4,
 "nbformat_minor": 2
}
